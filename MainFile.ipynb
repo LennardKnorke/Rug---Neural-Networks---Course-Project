{
 "cells": [
  {
   "cell_type": "code",
   "execution_count": 1,
   "id": "ae240cfa-9330-4944-91d7-9f447bd5b5f7",
   "metadata": {},
   "outputs": [
    {
     "name": "stderr",
     "output_type": "stream",
     "text": [
      "e:\\Stuff\\Python\\lib\\site-packages\\tqdm\\auto.py:22: TqdmWarning: IProgress not found. Please update jupyter and ipywidgets. See https://ipywidgets.readthedocs.io/en/stable/user_install.html\n",
      "  from .autonotebook import tqdm as notebook_tqdm\n"
     ]
    }
   ],
   "source": [
    "#Libs\n",
    "import numpy as np\n",
    "import tensorflow as tf\n",
    "import torch\n",
    "import matplotlib.pyplot as plt\n",
    "#From Other Files\n",
    "from functions import *"
   ]
  },
  {
   "attachments": {},
   "cell_type": "markdown",
   "id": "d2db8b90",
   "metadata": {},
   "source": [
    "### Import and Preprocess Data"
   ]
  },
  {
   "cell_type": "code",
   "execution_count": 2,
   "id": "a99ab17d-c80e-4c2f-a797-bd1f241944e3",
   "metadata": {},
   "outputs": [
    {
     "data": {
      "text/plain": [
       "(2000, 16, 15)"
      ]
     },
     "execution_count": 2,
     "metadata": {},
     "output_type": "execute_result"
    }
   ],
   "source": [
    "#Data returns as np.ndarray(2000,16,15)\n",
    "Data = getData()\n",
    "Data.shape"
   ]
  },
  {
   "cell_type": "code",
   "execution_count": 3,
   "id": "f9ad5290-2798-496a-a0da-dd7c2505a1e5",
   "metadata": {},
   "outputs": [
    {
     "data": {
      "image/png": "[encoded data removed]",
      "text/plain": [
       "<Figure size 432x288 with 1 Axes>"
      ]
     },
     "metadata": {
      "needs_background": "light"
     },
     "output_type": "display_data"
    }
   ],
   "source": [
    "#Example to check it works\n",
    "drawDigit(Data[1999])"
   ]
  },
  {
   "cell_type": "code",
   "execution_count": 4,
   "id": "c8e3df70-dc39-4105-b0e5-b8b820a7be24",
   "metadata": {},
   "outputs": [],
   "source": [
    "Training_Data, Testing_Data = splitData(Data, test_training_ratio = 0.4)"
   ]
  },
  {
   "cell_type": "code",
   "execution_count": 5,
   "id": "064bfdc3",
   "metadata": {},
   "outputs": [
    {
     "name": "stdout",
     "output_type": "stream",
     "text": [
      "Shape Training Array: (1200, 16, 15)\n",
      "Shape Test Array: (800, 16, 15)\n"
     ]
    }
   ],
   "source": [
    "print(f\"Shape Training Array: {Training_Data.shape}\\nShape Test Array: {Testing_Data.shape}\")"
   ]
  },
  {
   "cell_type": "code",
   "execution_count": 7,
   "id": "692267d9",
   "metadata": {},
   "outputs": [
    {
     "data": {
      "image/png": "[encoded data removed]",
      "text/plain": [
       "<Figure size 432x288 with 1 Axes>"
      ]
     },
     "metadata": {
      "needs_background": "light"
     },
     "output_type": "display_data"
    }
   ],
   "source": [
    "#Should be the same as before\n",
    "drawDigit(Testing_Data[-1])"
   ]
  },
  {
   "attachments": {},
   "cell_type": "markdown",
   "id": "04ba45d1",
   "metadata": {},
   "source": [
    "### K-Neighearest Neighbor Comparison"
   ]
  },
  {
   "attachments": {},
   "cell_type": "markdown",
   "id": "4f637545",
   "metadata": {},
   "source": [
    "### CNN"
   ]
  },
  {
   "cell_type": "code",
   "execution_count": null,
   "id": "4736ff74",
   "metadata": {},
   "outputs": [],
   "source": []
  }
 ],
 "metadata": {
  "kernelspec": {
   "display_name": "Python 3 (ipykernel)",
   "language": "python",
   "name": "python3"
  },
  "language_info": {
   "codemirror_mode": {
    "name": "ipython",
    "version": 3
   },
   "file_extension": ".py",
   "mimetype": "text/x-python",
   "name": "python",
   "nbconvert_exporter": "python",
   "pygments_lexer": "ipython3",
   "version": "3.10.4"
  }
 },
 "nbformat": 4,
 "nbformat_minor": 5
}
