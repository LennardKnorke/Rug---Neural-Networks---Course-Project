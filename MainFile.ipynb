{
  "cells": [
    {
      "cell_type": "code",
      "execution_count": 5,
      "id": "ae240cfa-9330-4944-91d7-9f447bd5b5f7",
      "metadata": {
        "id": "ae240cfa-9330-4944-91d7-9f447bd5b5f7"
      },
      "outputs": [],
      "source": [
        "#Libs\n",
        "import numpy as np\n",
        "import tensorflow as tf\n",
        "import torch\n",
        "import matplotlib.pyplot as plt\n",
        "\n",
        "from sklearn.model_selection import train_test_split\n",
        "from sklearn.neighbors import KNeighborsClassifier\n",
        "from sklearn.metrics import classification_report, confusion_matrix\n",
        "\n",
        "#Function to draw an image/array\n",
        "def drawDigit(data : np.ndarray) ->None:\n",
        "    plt.imshow(data, cmap='gray')\n",
        "    return"
      ]
    },
    {
      "cell_type": "markdown",
      "id": "d2db8b90",
      "metadata": {
        "id": "d2db8b90"
      },
      "source": [
        "### Import and split Data"
      ]
    },
    {
      "cell_type": "code",
      "execution_count": 7,
      "id": "a99ab17d-c80e-4c2f-a797-bd1f241944e3",
      "metadata": {
        "colab": {
          "base_uri": "https://localhost:8080/"
        },
        "id": "a99ab17d-c80e-4c2f-a797-bd1f241944e3",
        "outputId": "4ba30236-88ec-456c-b9d4-bdbfd55ef57b"
      },
      "outputs": [
        {
          "output_type": "execute_result",
          "data": {
            "text/plain": [
              "(2000, 16, 15)"
            ]
          },
          "metadata": {},
          "execution_count": 7
        }
      ],
      "source": [
        "#Open Data into (2000,16,15) np.array\n",
        "Data = np.empty([2000, 16, 15])\n",
        "with open(\"nestor files/mfeat-pix.txt\", 'r') as file:\n",
        "    file = file.readlines()\n",
        "    i = 0\n",
        "    for line in file:\n",
        "        k = 0\n",
        "        l = 0\n",
        "        for character in line:\n",
        "            if character.isdigit():\n",
        "                Data[i][k][l] = float(int(character)/6.0)#read digit and normalize data while reading it in!\n",
        "                l+=1\n",
        "                if l == 15:\n",
        "                    l = 0\n",
        "                    k+=1\n",
        "        i+=1\n",
        "Data.shape"
      ]
    },
    {
      "cell_type": "code",
      "execution_count": 8,
      "id": "cdc36aa1",
      "metadata": {
        "colab": {
          "base_uri": "https://localhost:8080/"
        },
        "id": "cdc36aa1",
        "outputId": "63888795-0508-4b2b-a04c-25d84f6534a6"
      },
      "outputs": [
        {
          "output_type": "execute_result",
          "data": {
            "text/plain": [
              "(0.0, 1.0)"
            ]
          },
          "metadata": {},
          "execution_count": 8
        }
      ],
      "source": [
        "Data.min(), Data.max()"
      ]
    },
    {
      "cell_type": "code",
      "execution_count": 9,
      "id": "f9ad5290-2798-496a-a0da-dd7c2505a1e5",
      "metadata": {
        "colab": {
          "base_uri": "https://localhost:8080/",
          "height": 447
        },
        "id": "f9ad5290-2798-496a-a0da-dd7c2505a1e5",
        "outputId": "a2600a4a-d8e5-4993-9994-106ca9ccc438"
      },
      "outputs": [
        {
          "output_type": "stream",
          "name": "stdout",
          "text": [
            "The last entry should be a 9!\n"
          ]
        },
        {
          "output_type": "display_data",
          "data": {
            "text/plain": [
              "<Figure size 640x480 with 1 Axes>"
            ],
            "image/png": "[encoded data removed]"
          },
          "metadata": {}
        }
      ],
      "source": [
        "#Example to check it works\n",
        "drawDigit(Data[-1])\n",
        "print(\"The last entry should be a 9!\")"
      ]
    },
    {
      "cell_type": "markdown",
      "id": "04ba45d1",
      "metadata": {
        "id": "04ba45d1"
      },
      "source": [
        "### K-Neighearest Neighbor Comparison"
      ]
    },
    {
      "cell_type": "code",
      "execution_count": 10,
      "id": "c9f2b666",
      "metadata": {
        "id": "c9f2b666"
      },
      "outputs": [],
      "source": [
        "# create the labels\n",
        "labels = np.zeros(2000)\n",
        "\n",
        "# assign the labels (0-9) to the first 200 instances of each digit\n",
        "for i in range(10):\n",
        "    labels[i*200:(i+1)*200] = i\n",
        "\n",
        "# reshape the data to be 2D\n",
        "knn_data = Data.reshape(2000, 16 * 15)\n",
        "\n",
        "# Split data into train and test sets\n",
        "X_train, X_test, y_train, y_test = train_test_split(knn_data, labels, test_size=0.2, random_state=69)\n",
        "\n",
        "# first try k = 3\n",
        "knn = KNeighborsClassifier(n_neighbors=3)"
      ]
    },
    {
      "cell_type": "code",
      "execution_count": 11,
      "id": "e56a8b49",
      "metadata": {
        "colab": {
          "base_uri": "https://localhost:8080/",
          "height": 74
        },
        "id": "e56a8b49",
        "outputId": "353c3e1f-c5f9-4f52-b45b-6e9b9dde7cac"
      },
      "outputs": [
        {
          "output_type": "execute_result",
          "data": {
            "text/plain": [
              "KNeighborsClassifier(n_neighbors=3)"
            ],
            "text/html": [
              "<style>#sk-container-id-1 {color: black;background-color: white;}#sk-container-id-1 pre{padding: 0;}#sk-container-id-1 div.sk-toggleable {background-color: white;}#sk-container-id-1 label.sk-toggleable__label {cursor: pointer;display: block;width: 100%;margin-bottom: 0;padding: 0.3em;box-sizing: border-box;text-align: center;}#sk-container-id-1 label.sk-toggleable__label-arrow:before {content: \"▸\";float: left;margin-right: 0.25em;color: #696969;}#sk-container-id-1 label.sk-toggleable__label-arrow:hover:before {color: black;}#sk-container-id-1 div.sk-estimator:hover label.sk-toggleable__label-arrow:before {color: black;}#sk-container-id-1 div.sk-toggleable__content {max-height: 0;max-width: 0;overflow: hidden;text-align: left;background-color: #f0f8ff;}#sk-container-id-1 div.sk-toggleable__content pre {margin: 0.2em;color: black;border-radius: 0.25em;background-color: #f0f8ff;}#sk-container-id-1 input.sk-toggleable__control:checked~div.sk-toggleable__content {max-height: 200px;max-width: 100%;overflow: auto;}#sk-container-id-1 input.sk-toggleable__control:checked~label.sk-toggleable__label-arrow:before {content: \"▾\";}#sk-container-id-1 div.sk-estimator input.sk-toggleable__control:checked~label.sk-toggleable__label {background-color: #d4ebff;}#sk-container-id-1 div.sk-label input.sk-toggleable__control:checked~label.sk-toggleable__label {background-color: #d4ebff;}#sk-container-id-1 input.sk-hidden--visually {border: 0;clip: rect(1px 1px 1px 1px);clip: rect(1px, 1px, 1px, 1px);height: 1px;margin: -1px;overflow: hidden;padding: 0;position: absolute;width: 1px;}#sk-container-id-1 div.sk-estimator {font-family: monospace;background-color: #f0f8ff;border: 1px dotted black;border-radius: 0.25em;box-sizing: border-box;margin-bottom: 0.5em;}#sk-container-id-1 div.sk-estimator:hover {background-color: #d4ebff;}#sk-container-id-1 div.sk-parallel-item::after {content: \"\";width: 100%;border-bottom: 1px solid gray;flex-grow: 1;}#sk-container-id-1 div.sk-label:hover label.sk-toggleable__label {background-color: #d4ebff;}#sk-container-id-1 div.sk-serial::before {content: \"\";position: absolute;border-left: 1px solid gray;box-sizing: border-box;top: 0;bottom: 0;left: 50%;z-index: 0;}#sk-container-id-1 div.sk-serial {display: flex;flex-direction: column;align-items: center;background-color: white;padding-right: 0.2em;padding-left: 0.2em;position: relative;}#sk-container-id-1 div.sk-item {position: relative;z-index: 1;}#sk-container-id-1 div.sk-parallel {display: flex;align-items: stretch;justify-content: center;background-color: white;position: relative;}#sk-container-id-1 div.sk-item::before, #sk-container-id-1 div.sk-parallel-item::before {content: \"\";position: absolute;border-left: 1px solid gray;box-sizing: border-box;top: 0;bottom: 0;left: 50%;z-index: -1;}#sk-container-id-1 div.sk-parallel-item {display: flex;flex-direction: column;z-index: 1;position: relative;background-color: white;}#sk-container-id-1 div.sk-parallel-item:first-child::after {align-self: flex-end;width: 50%;}#sk-container-id-1 div.sk-parallel-item:last-child::after {align-self: flex-start;width: 50%;}#sk-container-id-1 div.sk-parallel-item:only-child::after {width: 0;}#sk-container-id-1 div.sk-dashed-wrapped {border: 1px dashed gray;margin: 0 0.4em 0.5em 0.4em;box-sizing: border-box;padding-bottom: 0.4em;background-color: white;}#sk-container-id-1 div.sk-label label {font-family: monospace;font-weight: bold;display: inline-block;line-height: 1.2em;}#sk-container-id-1 div.sk-label-container {text-align: center;}#sk-container-id-1 div.sk-container {/* jupyter's `normalize.less` sets `[hidden] { display: none; }` but bootstrap.min.css set `[hidden] { display: none !important; }` so we also need the `!important` here to be able to override the default hidden behavior on the sphinx rendered scikit-learn.org. See: https://github.com/scikit-learn/scikit-learn/issues/21755 */display: inline-block !important;position: relative;}#sk-container-id-1 div.sk-text-repr-fallback {display: none;}</style><div id=\"sk-container-id-1\" class=\"sk-top-container\"><div class=\"sk-text-repr-fallback\"><pre>KNeighborsClassifier(n_neighbors=3)</pre><b>In a Jupyter environment, please rerun this cell to show the HTML representation or trust the notebook. <br />On GitHub, the HTML representation is unable to render, please try loading this page with nbviewer.org.</b></div><div class=\"sk-container\" hidden><div class=\"sk-item\"><div class=\"sk-estimator sk-toggleable\"><input class=\"sk-toggleable__control sk-hidden--visually\" id=\"sk-estimator-id-1\" type=\"checkbox\" checked><label for=\"sk-estimator-id-1\" class=\"sk-toggleable__label sk-toggleable__label-arrow\">KNeighborsClassifier</label><div class=\"sk-toggleable__content\"><pre>KNeighborsClassifier(n_neighbors=3)</pre></div></div></div></div></div>"
            ]
          },
          "metadata": {},
          "execution_count": 11
        }
      ],
      "source": [
        "# train the model\n",
        "knn.fit(X_train, y_train)"
      ]
    },
    {
      "cell_type": "code",
      "execution_count": 12,
      "id": "c3928b17",
      "metadata": {
        "colab": {
          "base_uri": "https://localhost:8080/"
        },
        "id": "c3928b17",
        "outputId": "c9db1a8e-f49a-44e6-ae7d-9b2ee2623b50"
      },
      "outputs": [
        {
          "output_type": "stream",
          "name": "stdout",
          "text": [
            "[[41  0  0  0  0  0  0  0  0  0]\n",
            " [ 0 43  0  0  0  1  0  0  0  0]\n",
            " [ 0  0 41  0  0  0  0  0  0  0]\n",
            " [ 0  0  0 39  0  0  0  0  0  0]\n",
            " [ 0  0  0  0 34  0  1  0  0  0]\n",
            " [ 0  0  0  0  0 41  0  0  0  0]\n",
            " [ 0  0  0  0  0  1 38  0  0  0]\n",
            " [ 0  0  0  0  0  0  0 34  0  0]\n",
            " [ 2  0  0  0  0  0  0  0 44  0]\n",
            " [ 0  0  0  0  0  0  0  0  0 40]]\n",
            "              precision    recall  f1-score   support\n",
            "\n",
            "         0.0       0.95      1.00      0.98        41\n",
            "         1.0       1.00      0.98      0.99        44\n",
            "         2.0       1.00      1.00      1.00        41\n",
            "         3.0       1.00      1.00      1.00        39\n",
            "         4.0       1.00      0.97      0.99        35\n",
            "         5.0       0.95      1.00      0.98        41\n",
            "         6.0       0.97      0.97      0.97        39\n",
            "         7.0       1.00      1.00      1.00        34\n",
            "         8.0       1.00      0.96      0.98        46\n",
            "         9.0       1.00      1.00      1.00        40\n",
            "\n",
            "    accuracy                           0.99       400\n",
            "   macro avg       0.99      0.99      0.99       400\n",
            "weighted avg       0.99      0.99      0.99       400\n",
            "\n"
          ]
        }
      ],
      "source": [
        "# Predict on the test data\n",
        "y_pred = knn.predict(X_test)\n",
        "\n",
        "# Evaluate the model\n",
        "print(confusion_matrix(y_test, y_pred))\n",
        "print(classification_report(y_test, y_pred))"
      ]
    },
    {
      "cell_type": "code",
      "source": [
        "test_size = int(0.2 * 2000)\n",
        "X_test_draw = X_test.reshape(test_size, 16, 15)\n",
        "\n",
        "# show digits which were not predicted correctly\n",
        "wrong_predicts = {}\n",
        "\n",
        "assert(len(y_test) == len(y_pred))\n",
        "for idx in range(len(y_test)):\n",
        "  if y_test[idx] != y_pred[idx]:\n",
        "    wrong_predicts[idx] = [y_pred[idx], y_test[idx]]\n",
        "\n",
        "fig = plt.figure()\n",
        "gs = fig.add_gridspec(len(wrong_predicts), hspace=1.5)\n",
        "axes = gs.subplots()\n",
        "\n",
        "count = 0\n",
        "for key, val in wrong_predicts.items():\n",
        "  axes[count].imshow(X_test_draw[key], cmap='gray')\n",
        "  axes[count].set_title(f'predicted: {val[0]}, y: {val[1]}')\n",
        "  count += 1\n",
        "\n"
      ],
      "metadata": {
        "colab": {
          "base_uri": "https://localhost:8080/",
          "height": 452
        },
        "id": "Eoy-Pr8Q946C",
        "outputId": "9eccf30c-2a0f-4e4a-c1b2-da3ac18062b4"
      },
      "id": "Eoy-Pr8Q946C",
      "execution_count": 13,
      "outputs": [
        {
          "output_type": "display_data",
          "data": {
            "text/plain": [
              "<Figure size 640x480 with 5 Axes>"
            ],
            "image/png": "[encoded data removed]"
          },
          "metadata": {}
        }
      ]
    },
    {
      "cell_type": "markdown",
      "id": "4f637545",
      "metadata": {
        "id": "4f637545"
      },
      "source": [
        "### CNN"
      ]
    },
    {
      "cell_type": "markdown",
      "id": "b6b8a36e",
      "metadata": {
        "id": "b6b8a36e"
      },
      "source": [
        "Steps:<br>\n",
        "1. Preprocess (reshape, prepare input and create solution vectors)<br>\n",
        "2. Create architectures<br>\n",
        "3. Train each Architecture<br>\n",
        "4. Evaluate each Architecture<br>\n",
        "5. Compare<br>"
      ]
    },
    {
      "cell_type": "markdown",
      "id": "46e05672",
      "metadata": {
        "id": "46e05672"
      },
      "source": [
        "#### 1 - Preprocessing"
      ]
    },
    {
      "cell_type": "code",
      "execution_count": 14,
      "id": "1087c344",
      "metadata": {
        "colab": {
          "base_uri": "https://localhost:8080/"
        },
        "id": "1087c344",
        "outputId": "ee5498f8-249c-4e7d-f2b2-8cb0aeeb81ea"
      },
      "outputs": [
        {
          "output_type": "stream",
          "name": "stdout",
          "text": [
            "Training_y shape:  (1600,)\n",
            "Training_x shape:  (1600, 16, 15)\n",
            "Testing_y shape:  (400,)\n",
            "Testing_x shape:  (400, 16, 15)\n",
            "\n",
            "Training_y shape:  (1600, 10)\n",
            "Training_x shape:  (1600, 16, 15)\n",
            "Testing_y shape:  (400, 10)\n",
            "Testing_x shape:  (400, 16, 15)\n"
          ]
        }
      ],
      "source": [
        "#Split DataSet into Testing and Training Data\n",
        "TEST_TO_TRAINING_RATIO = 0.2 #SET VALUE!, between 0.0<=x<=1 to set the number of testing and the number of training data. Higher value means higher more testing data but less training!!\n",
        "\n",
        "#Helps to split the data and create y vectors\n",
        "test_size = int(2000 * TEST_TO_TRAINING_RATIO)\n",
        "training_size = 2000 - test_size\n",
        "cutoff = int(training_size / 10)\n",
        "\n",
        "#Y vectors\n",
        "testing_y = np.array([0]*((200-cutoff)) + [1]*(200-cutoff) + [2]*(200-cutoff) + [3]*(200-cutoff) + [4]*(200-cutoff) + [5]*(200-cutoff) + [6]*(200-cutoff) + [7]*(200-cutoff) + [8]*(200-cutoff) + [9]*(200-cutoff))\n",
        "training_y = np.array([0]*cutoff + [1]*cutoff + [2]*cutoff + [3]*cutoff + [4]*cutoff + [5]*cutoff + [6]*cutoff + [7]*cutoff + [8]*cutoff + [9]*cutoff)\n",
        "\n",
        "#Set up Numpy arrays\n",
        "testing_x = np.ndarray((test_size, 16, 15))\n",
        "training_x = np.ndarray((training_size, 16, 15))\n",
        "\n",
        "#Tool to loop through Data\n",
        "test_idx = 0\n",
        "train_idx = 0\n",
        "\n",
        "##For every 10 number (0-9). Assign data to either training-or testing data\n",
        "for i in range(10):\n",
        "    #There are 200 entries per number\n",
        "    for k in range(200):\n",
        "        idx = k + (i*200)\n",
        "        #If k under a limit, copy into training\n",
        "        if k < cutoff:\n",
        "            training_x[train_idx] = Data[idx]\n",
        "            train_idx += 1\n",
        "        else:\n",
        "            testing_x[test_idx] = Data[idx]\n",
        "            test_idx += 1\n",
        "\n",
        "\n",
        "print(\"Training_y shape: \", training_y.shape)\n",
        "print(\"Training_x shape: \" , training_x.shape)\n",
        "print(\"Testing_y shape: \" , testing_y.shape)\n",
        "print(\"Testing_x shape: \" , testing_x.shape)\n",
        "\n",
        "training_y_cat = tf.keras.utils.to_categorical(training_y)\n",
        "testing_y_cat = tf.keras.utils.to_categorical(testing_y)\n",
        "\n",
        "print(\"\\nTraining_y shape: \", training_y_cat.shape)\n",
        "print(\"Training_x shape: \" , training_x.shape)\n",
        "print(\"Testing_y shape: \" , testing_y_cat.shape)\n",
        "print(\"Testing_x shape: \" , testing_x.shape)"
      ]
    },
    {
      "cell_type": "code",
      "execution_count": 15,
      "id": "822f1d90",
      "metadata": {
        "colab": {
          "base_uri": "https://localhost:8080/",
          "height": 447
        },
        "id": "822f1d90",
        "outputId": "ee10a03f-dc8b-421d-b00e-6d0c24b38815"
      },
      "outputs": [
        {
          "output_type": "stream",
          "name": "stdout",
          "text": [
            "Should be a 9\n"
          ]
        },
        {
          "output_type": "display_data",
          "data": {
            "text/plain": [
              "<Figure size 640x480 with 1 Axes>"
            ],
            "image/png": "[encoded data removed]"
          },
          "metadata": {}
        }
      ],
      "source": [
        "#Test. Should be the same as the first image!\n",
        "print(f\"Should be a {testing_y[-1]}\")\n",
        "drawDigit(testing_x[-1])"
      ]
    },
    {
      "cell_type": "markdown",
      "id": "03c9d107",
      "metadata": {
        "id": "03c9d107"
      },
      "source": [
        "#### 2 - Prepare Architectures"
      ]
    },
    {
      "cell_type": "markdown",
      "id": "2af7291a",
      "metadata": {
        "id": "2af7291a"
      },
      "source": [
        "A list of models. Create new blocks for each desired model and add them to the list. Let them execute all at once at the end!"
      ]
    },
    {
      "cell_type": "code",
      "execution_count": 16,
      "id": "8c109c05",
      "metadata": {
        "id": "8c109c05"
      },
      "outputs": [],
      "source": [
        "model_list = []"
      ]
    },
    {
      "cell_type": "markdown",
      "id": "ae1a83ca",
      "metadata": {
        "id": "ae1a83ca"
      },
      "source": [
        "##### Convolutional models with 2 conv layers"
      ]
    },
    {
      "cell_type": "code",
      "execution_count": 17,
      "id": "20e15773",
      "metadata": {
        "id": "20e15773"
      },
      "outputs": [],
      "source": [
        "#Function return a cnn model with 2 conv layer and the given input\n",
        "def getCNN_2ConvLay(c1_features : int = 6, #number of features in conv layer 1extracted\n",
        "                 c2_features : int = 16, #number of features in conv layer 2 extracted\n",
        "                 c_dropout_rate : float = 0.25, #rate of dropout after conv layers\n",
        "                 f_dropout_rate : float = 0.5,#rate of dropout after fc layers\n",
        "                 fc_layers : list = []  #list containing integers which represents the number of neurons PER layer.\n",
        "                 ) -> tf.keras.Sequential:\n",
        "    if (c1_features < 1 or c2_features < 1) or (c_dropout_rate < 0.0 or c_dropout_rate > 1.0) or (f_dropout_rate < 0.0 or f_dropout_rate > 1.0):\n",
        "        raise ValueError (\"Invalid parameters!\")\n",
        "    layers = [\n",
        "        tf.keras.layers.Conv2D(c1_features, kernel_size=(3, 3), activation='relu', input_shape=(16,15,1)),\n",
        "        tf.keras.layers.Conv2D(c2_features, (3, 3), activation='relu'),\n",
        "        tf.keras.layers.MaxPooling2D(pool_size=(2, 2)),\n",
        "        tf.keras.layers.Dropout(c_dropout_rate),\n",
        "        tf.keras.layers.Flatten(),\n",
        "    ]\n",
        "    for lay in fc_layers:\n",
        "        if type(lay)== int and lay > 0:\n",
        "                layers.append(tf.keras.layers.Dense(lay, activation='relu'))\n",
        "    layers.append(tf.keras.layers.Dropout(f_dropout_rate))\n",
        "    layers.append(tf.keras.layers.Dense(10, activation='softmax'))\n",
        "\n",
        "    model = tf.keras.Sequential(layers, name=\"TestModel\")\n",
        "    return model"
      ]
    },
    {
      "cell_type": "code",
      "execution_count": 18,
      "id": "c44b65c1",
      "metadata": {
        "id": "c44b65c1"
      },
      "outputs": [],
      "source": [
        "#Function return a cnn model with 1 conv layer and the given input\n",
        "def getCNN_1ConvLay(c1_features : int = 20, #number of features in conv layer 1extracted\n",
        "                 c_dropout_rate : float = 0.25, #rate of dropout after conv layers\n",
        "                 f_dropout_rate : float = 0.5,#rate of dropout after fc layers\n",
        "                 fc_layers : list = []  #list containing integers which represents the number of neurons PER layer.\n",
        "                 ) -> tf.keras.Sequential:\n",
        "    if (c1_features < 1) or (c_dropout_rate < 0.0 or c_dropout_rate > 1.0) or (f_dropout_rate < 0.0 or f_dropout_rate > 1.0):\n",
        "        raise ValueError (\"Invalid parameters!\")\n",
        "    layers = [\n",
        "        tf.keras.layers.Conv2D(c1_features, kernel_size=(3, 3), activation='relu', input_shape=(16,15,1)),\n",
        "        tf.keras.layers.MaxPooling2D(pool_size=(2, 2)),\n",
        "        tf.keras.layers.Dropout(c_dropout_rate),\n",
        "        tf.keras.layers.Flatten(),\n",
        "    ]\n",
        "    for lay in fc_layers:\n",
        "        if type(lay)== int and lay > 0:\n",
        "                layers.append(tf.keras.layers.Dense(lay, activation='relu'))\n",
        "    layers.append(tf.keras.layers.Dropout(f_dropout_rate))\n",
        "    layers.append(tf.keras.layers.Dense(10, activation='softmax'))\n",
        "\n",
        "    model = tf.keras.Sequential(layers, name=\"TestModel\")\n",
        "    return model"
      ]
    },
    {
      "cell_type": "code",
      "execution_count": 19,
      "id": "ccaca849",
      "metadata": {
        "id": "ccaca849"
      },
      "outputs": [],
      "source": [
        "#returns a mlp, given the size of an input layer (NOT SURE IF IT WORKS. ONLY RELEVANT FOR THE MANUAL FEATURE EXTRACTION!!)\n",
        "def getMLP_0ConvLay(neurons_layer0 : int = 15*16,#number of neurons (and input aswell?? again its not finished and probably not needed)\n",
        "                    f_dropout_rate : float = 0.5,#rate of dropout after fc layers\n",
        "                    fc_layers : list = []  #list containing integers which represents the number of neurons PER layer.\n",
        "                    ) -> tf.keras.Sequential:\n",
        "    layers = [\n",
        "        tf.keras.layers.Dense(neurons_layer0, activation = 'relu')\n",
        "    ]\n",
        "    for lay in fc_layers:\n",
        "        if type(lay)== int and lay > 0:\n",
        "                layers.append(tf.keras.layers.Dense(lay, activation='relu'))\n",
        "    layers.append(tf.keras.layers.Dropout(f_dropout_rate))\n",
        "    layers.append(tf.keras.layers.Dense(10, activation='softmax'))\n",
        "    model = tf.keras.Sequential(layers, name=\"TestModel\")\n",
        "    return model\n",
        "\n"
      ]
    },
    {
      "cell_type": "code",
      "execution_count": 20,
      "id": "33c12102",
      "metadata": {
        "id": "33c12102"
      },
      "outputs": [],
      "source": [
        "model_list.append(getCNN_2ConvLay())"
      ]
    },
    {
      "cell_type": "markdown",
      "id": "6b2a83fc",
      "metadata": {
        "id": "6b2a83fc"
      },
      "source": [
        "##### CNN's models with one conv layer"
      ]
    },
    {
      "cell_type": "markdown",
      "id": "62b26903",
      "metadata": {
        "id": "62b26903"
      },
      "source": [
        "#### 3 Train Architectures"
      ]
    },
    {
      "cell_type": "code",
      "execution_count": 21,
      "id": "5b2e158f",
      "metadata": {
        "id": "5b2e158f"
      },
      "outputs": [],
      "source": [
        "#Unknown callback functions\n",
        "early_stopping_callback = tf.keras.callbacks.EarlyStopping(monitor='mse', patience=20)\n",
        "tensorboard_callback = tf.keras.callbacks.TensorBoard(log_dir=\"./logs\")\n"
      ]
    },
    {
      "cell_type": "code",
      "execution_count": 22,
      "id": "6b6f84f4",
      "metadata": {
        "id": "6b6f84f4"
      },
      "outputs": [],
      "source": [
        "#model.compile(\n",
        "#        optimizer=tf.keras.optimizers.RMSprop(),\n",
        "#        loss=tf.keras.losses.categorical_crossentropy,\n",
        "#        metrics=['mse', 'accuracy']\n",
        "#    )"
      ]
    },
    {
      "cell_type": "code",
      "execution_count": 23,
      "id": "af485147",
      "metadata": {
        "id": "af485147"
      },
      "outputs": [],
      "source": [
        "EPOCHS = None\n",
        "BATCH_SIZE = None"
      ]
    },
    {
      "cell_type": "code",
      "execution_count": 24,
      "id": "2c64bdd4",
      "metadata": {
        "colab": {
          "base_uri": "https://localhost:8080/",
          "height": 381
        },
        "id": "2c64bdd4",
        "outputId": "15e4a116-ae3a-4f56-9a38-f2afd15ec163"
      },
      "outputs": [
        {
          "output_type": "error",
          "ename": "RuntimeError",
          "evalue": "ignored",
          "traceback": [
            "\u001b[0;31m---------------------------------------------------------------------------\u001b[0m",
            "\u001b[0;31mRuntimeError\u001b[0m                              Traceback (most recent call last)",
            "\u001b[0;32m<ipython-input-24-b6e08be053e7>\u001b[0m in \u001b[0;36m<cell line: 2>\u001b[0;34m()\u001b[0m\n\u001b[1;32m      1\u001b[0m \u001b[0;31m#Fit\u001b[0m\u001b[0;34m\u001b[0m\u001b[0;34m\u001b[0m\u001b[0m\n\u001b[0;32m----> 2\u001b[0;31m history = model_list[0].fit(\n\u001b[0m\u001b[1;32m      3\u001b[0m     \u001b[0mtraining_x\u001b[0m\u001b[0;34m,\u001b[0m \u001b[0mtraining_y_cat\u001b[0m\u001b[0;34m,\u001b[0m\u001b[0;34m\u001b[0m\u001b[0;34m\u001b[0m\u001b[0m\n\u001b[1;32m      4\u001b[0m     \u001b[0mbatch_size\u001b[0m\u001b[0;34m=\u001b[0m\u001b[0;36m128\u001b[0m\u001b[0;34m,\u001b[0m\u001b[0;34m\u001b[0m\u001b[0;34m\u001b[0m\u001b[0m\n\u001b[1;32m      5\u001b[0m     \u001b[0mepochs\u001b[0m\u001b[0;34m=\u001b[0m\u001b[0;36m20\u001b[0m\u001b[0;34m,\u001b[0m\u001b[0;34m\u001b[0m\u001b[0;34m\u001b[0m\u001b[0m\n",
            "\u001b[0;32m/usr/local/lib/python3.10/dist-packages/keras/utils/traceback_utils.py\u001b[0m in \u001b[0;36merror_handler\u001b[0;34m(*args, **kwargs)\u001b[0m\n\u001b[1;32m     68\u001b[0m             \u001b[0;31m# To get the full stack trace, call:\u001b[0m\u001b[0;34m\u001b[0m\u001b[0;34m\u001b[0m\u001b[0m\n\u001b[1;32m     69\u001b[0m             \u001b[0;31m# `tf.debugging.disable_traceback_filtering()`\u001b[0m\u001b[0;34m\u001b[0m\u001b[0;34m\u001b[0m\u001b[0m\n\u001b[0;32m---> 70\u001b[0;31m             \u001b[0;32mraise\u001b[0m \u001b[0me\u001b[0m\u001b[0;34m.\u001b[0m\u001b[0mwith_traceback\u001b[0m\u001b[0;34m(\u001b[0m\u001b[0mfiltered_tb\u001b[0m\u001b[0;34m)\u001b[0m \u001b[0;32mfrom\u001b[0m \u001b[0;32mNone\u001b[0m\u001b[0;34m\u001b[0m\u001b[0;34m\u001b[0m\u001b[0m\n\u001b[0m\u001b[1;32m     71\u001b[0m         \u001b[0;32mfinally\u001b[0m\u001b[0;34m:\u001b[0m\u001b[0;34m\u001b[0m\u001b[0;34m\u001b[0m\u001b[0m\n\u001b[1;32m     72\u001b[0m             \u001b[0;32mdel\u001b[0m \u001b[0mfiltered_tb\u001b[0m\u001b[0;34m\u001b[0m\u001b[0;34m\u001b[0m\u001b[0m\n",
            "\u001b[0;32m/usr/local/lib/python3.10/dist-packages/keras/engine/training.py\u001b[0m in \u001b[0;36m_assert_compile_was_called\u001b[0;34m(self)\u001b[0m\n\u001b[1;32m   3683\u001b[0m         \u001b[0;31m# (i.e. whether the model is built and its inputs/outputs are set).\u001b[0m\u001b[0;34m\u001b[0m\u001b[0;34m\u001b[0m\u001b[0m\n\u001b[1;32m   3684\u001b[0m         \u001b[0;32mif\u001b[0m \u001b[0;32mnot\u001b[0m \u001b[0mself\u001b[0m\u001b[0;34m.\u001b[0m\u001b[0m_is_compiled\u001b[0m\u001b[0;34m:\u001b[0m\u001b[0;34m\u001b[0m\u001b[0;34m\u001b[0m\u001b[0m\n\u001b[0;32m-> 3685\u001b[0;31m             raise RuntimeError(\n\u001b[0m\u001b[1;32m   3686\u001b[0m                 \u001b[0;34m\"You must compile your model before \"\u001b[0m\u001b[0;34m\u001b[0m\u001b[0;34m\u001b[0m\u001b[0m\n\u001b[1;32m   3687\u001b[0m                 \u001b[0;34m\"training/testing. \"\u001b[0m\u001b[0;34m\u001b[0m\u001b[0;34m\u001b[0m\u001b[0m\n",
            "\u001b[0;31mRuntimeError\u001b[0m: You must compile your model before training/testing. Use `model.compile(optimizer, loss)`."
          ]
        }
      ],
      "source": [
        "#Fit\n",
        "history = model_list[0].fit(\n",
        "    training_x, training_y_cat,\n",
        "    batch_size=128,\n",
        "    epochs=20,\n",
        "    callbacks=[early_stopping_callback, tensorboard_callback],\n",
        ")\n",
        ""
      ]
    },
    {
      "cell_type": "markdown",
      "id": "6fb0bd0e",
      "metadata": {
        "id": "6fb0bd0e"
      },
      "source": [
        "#### 4 Test Architectures"
      ]
    },
    {
      "cell_type": "markdown",
      "id": "072b36f3",
      "metadata": {
        "id": "072b36f3"
      },
      "source": []
    }
  ],
  "metadata": {
    "kernelspec": {
      "display_name": "Python 3 (ipykernel)",
      "language": "python",
      "name": "python3"
    },
    "language_info": {
      "codemirror_mode": {
        "name": "ipython",
        "version": 3
      },
      "file_extension": ".py",
      "mimetype": "text/x-python",
      "name": "python",
      "nbconvert_exporter": "python",
      "pygments_lexer": "ipython3",
      "version": "3.10.4"
    },
    "colab": {
      "provenance": []
    }
  },
  "nbformat": 4,
  "nbformat_minor": 5
}